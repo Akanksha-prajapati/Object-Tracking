{
  "nbformat": 4,
  "nbformat_minor": 0,
  "metadata": {
    "colab": {
      "provenance": [],
      "authorship_tag": "ABX9TyPLREvMzV7bGo242CPw8qrV",
      "include_colab_link": true
    },
    "kernelspec": {
      "name": "python3",
      "display_name": "Python 3"
    },
    "language_info": {
      "name": "python"
    }
  },
  "cells": [
    {
      "cell_type": "markdown",
      "metadata": {
        "id": "view-in-github",
        "colab_type": "text"
      },
      "source": [
        "<a href=\"https://colab.research.google.com/github/Akanksha-prajapati/Object-Tracking/blob/main/Untitled4.ipynb\" target=\"_parent\"><img src=\"https://colab.research.google.com/assets/colab-badge.svg\" alt=\"Open In Colab\"/></a>"
      ]
    },
    {
      "cell_type": "code",
      "execution_count": null,
      "metadata": {
        "id": "_cHF6AHiMOhF"
      },
      "outputs": [],
      "source": [
        "# . Implement a Kalman filter to predict and update the state of an object given its measurements:\n",
        "\n",
        "import numpy as np\n",
        "\n",
        "class KalmanFilter:\n",
        "    def __init__(self, state_dim, measurement_dim):\n",
        "        self.state_dim = state_dim\n",
        "        self.measurement_dim = measurement_dim\n",
        "\n",
        "        # Initialize state, covariance, and matrices\n",
        "        self.state = np.zeros((state_dim, 1))  # initial state estimate\n",
        "        self.P = np.eye(state_dim)  # initial state covariance\n",
        "        self.F = np.eye(state_dim)  # state transition matrix\n",
        "        self.H = np.zeros((measurement_dim, state_dim))  # measurement matrix\n",
        "        self.R = np.eye(measurement_dim)  # measurement covariance\n",
        "        self.Q = np.eye(state_dim)  # process noise covariance\n",
        "\n",
        "    def predict(self):\n",
        "        # Predict the next state\n",
        "        self.state = np.dot(self.F, self.state)\n",
        "        self.P = np.dot(self.F, np.dot(self.P, self.F.T)) + self.Q\n",
        "\n",
        "    def update(self, measurement):\n",
        "        # Update the state with the new measurement\n",
        "        y = measurement - np.dot(self.H, self.state)  # measurement residual\n",
        "        S = np.dot(self.H, np.dot(self.P, self.H.T)) + self.R  # residual covariance\n",
        "        K = np.dot(self.P, np.dot(self.H.T, np.linalg.inv(S)))  # Kalman gain\n",
        "\n",
        "        # Update state and covariance\n",
        "        self.state = self.state + np.dot(K, y)\n",
        "        self.P = self.P - np.dot(K, np.dot(self.H, self.P))\n",
        "\n",
        "    def get_state(self):\n",
        "        return self.state\n"
      ]
    },
    {
      "cell_type": "code",
      "source": [
        "#Write a function to normalize an image array such that pixel values are scaled between 0 and 1:\n",
        "\n",
        "def normalize_image(image):\n",
        "    return image.astype(np.float32) / 255.0\n"
      ],
      "metadata": {
        "id": "v2SeE47EMY26"
      },
      "execution_count": null,
      "outputs": []
    },
    {
      "cell_type": "code",
      "source": [
        "#Create a function to generate dummy object detection data with confidence scores and bounding boxes. Filter the detections based on a confidence threshold:\n",
        "\n",
        "def generate_dummy_detections(num_detections=5, confidence_threshold=0.5):\n",
        "    detections = []\n",
        "    for _ in range(num_detections):\n",
        "        # Random bounding boxes (x_min, y_min, x_max, y_max)\n",
        "        bbox = np.random.randint(0, 100, size=(4,))\n",
        "        confidence = np.random.random()  # Random confidence between 0 and 1\n",
        "        detections.append((bbox, confidence))\n",
        "\n",
        "    # Filter detections based on confidence threshold\n",
        "    filtered_detections = [det for det in detections if det[1] > confidence_threshold]\n",
        "\n",
        "    return filtered_detections\n"
      ],
      "metadata": {
        "id": "7Qb_J-S8Mo5H"
      },
      "execution_count": null,
      "outputs": []
    },
    {
      "cell_type": "code",
      "source": [
        "# Write a function that takes a list of YOLO detections and extracts a random 128-dimensional feature vector for each detection:\n",
        "\n",
        "def extract_feature_vectors(yolo_detections):\n",
        "    feature_vectors = {}\n",
        "    for detection in yolo_detections:\n",
        "        bbox, confidence = detection\n",
        "        # Generate a random 128-dimensional feature vector\n",
        "        feature_vector = np.random.rand(128)\n",
        "        feature_vectors[tuple(bbox)] = feature_vector\n",
        "\n",
        "    return feature_vectors\n"
      ],
      "metadata": {
        "id": "EW9_9oT7M0FA"
      },
      "execution_count": null,
      "outputs": []
    },
    {
      "cell_type": "code",
      "source": [
        "#Write a function to re-identify objects by matching feature vectors based on Euclidean distance:\n",
        "\n",
        "from scipy.spatial.distance import cdist\n",
        "\n",
        "def re_identify_objects(current_detections, previous_features):\n",
        "    current_feature_vectors = extract_feature_vectors(current_detections)\n",
        "\n",
        "    re_identified = {}\n",
        "    for current_bbox, current_feature in current_feature_vectors.items():\n",
        "        distances = cdist([current_feature], list(previous_features.values()), 'euclidean')\n",
        "        min_distance_idx = np.argmin(distances)\n",
        "        re_identified[current_bbox] = list(previous_features.keys())[min_distance_idx]\n",
        "\n",
        "    return re_identified\n",
        "\n"
      ],
      "metadata": {
        "id": "Qo48JCDNM9Jw"
      },
      "execution_count": null,
      "outputs": []
    },
    {
      "cell_type": "code",
      "source": [
        "#. Write a function to track object positions using YOLO detections and a Kalman Filter:\n",
        "\n",
        "def track_objects_with_kalman(yolo_detections, kalman_filter, threshold=0.5):\n",
        "    tracked_objects = []\n",
        "\n",
        "    for detection in yolo_detections:\n",
        "        bbox, confidence = detection\n",
        "        if confidence > threshold:\n",
        "            # Predict the next position using Kalman Filter\n",
        "            kalman_filter.predict()\n",
        "            kalman_filter.update(np.array(bbox).reshape(-1, 1))  # Update with new detection\n",
        "\n",
        "            # Get the updated state (predicted position)\n",
        "            predicted_position = kalman_filter.get_state()\n",
        "            tracked_objects.append(predicted_position)\n",
        "\n",
        "    return tracked_objects\n",
        "\n"
      ],
      "metadata": {
        "id": "Wbv5vYaLNIMN"
      },
      "execution_count": null,
      "outputs": []
    },
    {
      "cell_type": "code",
      "source": [
        "# Implement a simple Kalman Filter to track an object's position in a 2D space (simulate the object's movement with random noise):\n",
        "\n",
        "import matplotlib.pyplot as plt\n",
        "\n",
        "# Initialize Kalman Filter for 2D tracking (position and velocity)\n",
        "kf = KalmanFilter(state_dim=4, measurement_dim=2)\n",
        "\n",
        "# Simulating an object's movement in 2D with random noise\n",
        "num_steps = 50\n",
        "true_positions = []\n",
        "measured_positions = []\n",
        "predicted_positions = []\n",
        "\n",
        "for step in range(num_steps):\n",
        "    # Simulate true movement (constant velocity model)\n",
        "    true_position = np.array([step * 2 + np.random.randn(), step * 3 + np.random.randn()])\n",
        "    true_positions.append(true_position)\n",
        "\n",
        "    # Simulate noisy measurements\n",
        "    measured_position = true_position + np.random.randn(2) * 5  # Adding noise\n",
        "    measured_positions.append(measured_position)\n",
        "\n",
        "    # Predict and update Kalman filter\n",
        "    kf.predict()\n",
        "    kf.update(measured_position.reshape(-1, 1))\n",
        "\n",
        "    # Get the predicted position\n",
        "    predicted_positions.append(kf.get_state()[:2].flatten())\n",
        "\n",
        "# Convert lists to arrays for easy plotting\n",
        "true_positions = np.array(true_positions)\n",
        "measured_positions = np.array(measured_positions)\n",
        "predicted_positions = np.array(predicted_positions)\n",
        "\n",
        "# Plot the results\n",
        "plt.plot(true_positions[:, 0], true_positions[:, 1], label=\"True Position\")\n",
        "plt.scatter(measured_positions[:, 0], measured_positions[:, 1], color='r', label=\"Measured Position\")\n",
        "plt.scatter(predicted_positions[:, 0], predicted_positions[:, 1], color='g', label=\"Predicted Position\")\n",
        "plt.legend()\n",
        "plt.title(\"Kalman Filter Tracking 2D Movement\")\n",
        "plt.show()\n"
      ],
      "metadata": {
        "id": "NQLEdRhGNUpi"
      },
      "execution_count": null,
      "outputs": []
    }
  ]
}